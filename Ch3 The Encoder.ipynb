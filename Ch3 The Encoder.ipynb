{
 "cells": [
  {
   "cell_type": "markdown",
   "metadata": {},
   "source": [
    "## Installing the packages"
   ]
  },
  {
   "cell_type": "code",
   "execution_count": 1,
   "metadata": {},
   "outputs": [
    {
     "name": "stdout",
     "output_type": "stream",
     "text": [
      "Collecting bertviz\n",
      "  Downloading bertviz-1.4.0-py3-none-any.whl (157 kB)\n",
      "     ---------------------------------------- 0.0/157.6 kB ? eta -:--:--\n",
      "     -------------------------------------- 157.6/157.6 kB 9.8 MB/s eta 0:00:00\n",
      "Requirement already satisfied: transformers>=2.0 in c:\\users\\vloba\\git\\transformers\\.venv\\lib\\site-packages (from bertviz) (4.34.0)\n",
      "Requirement already satisfied: torch>=1.0 in c:\\users\\vloba\\git\\transformers\\.venv\\lib\\site-packages (from bertviz) (2.1.0+cu121)\n",
      "Requirement already satisfied: tqdm in c:\\users\\vloba\\git\\transformers\\.venv\\lib\\site-packages (from bertviz) (4.66.1)\n",
      "Collecting boto3 (from bertviz)\n",
      "  Obtaining dependency information for boto3 from https://files.pythonhosted.org/packages/63/e5/8fc4a69186cb15b0dba9c428da73233c89eb18ee03ce56f6bde205ea2006/boto3-1.28.62-py3-none-any.whl.metadata\n",
      "  Downloading boto3-1.28.62-py3-none-any.whl.metadata (6.7 kB)\n",
      "Requirement already satisfied: requests in c:\\users\\vloba\\git\\transformers\\.venv\\lib\\site-packages (from bertviz) (2.31.0)\n",
      "Requirement already satisfied: regex in c:\\users\\vloba\\git\\transformers\\.venv\\lib\\site-packages (from bertviz) (2023.10.3)\n",
      "Collecting sentencepiece (from bertviz)\n",
      "  Downloading sentencepiece-0.1.99-cp39-cp39-win_amd64.whl (977 kB)\n",
      "     ---------------------------------------- 0.0/977.6 kB ? eta -:--:--\n",
      "     ------------------------------------- 977.6/977.6 kB 21.0 MB/s eta 0:00:00\n",
      "Requirement already satisfied: filelock in c:\\users\\vloba\\git\\transformers\\.venv\\lib\\site-packages (from torch>=1.0->bertviz) (3.12.4)\n",
      "Requirement already satisfied: typing-extensions in c:\\users\\vloba\\git\\transformers\\.venv\\lib\\site-packages (from torch>=1.0->bertviz) (4.8.0)\n",
      "Requirement already satisfied: sympy in c:\\users\\vloba\\git\\transformers\\.venv\\lib\\site-packages (from torch>=1.0->bertviz) (1.12)\n",
      "Requirement already satisfied: networkx in c:\\users\\vloba\\git\\transformers\\.venv\\lib\\site-packages (from torch>=1.0->bertviz) (3.1)\n",
      "Requirement already satisfied: jinja2 in c:\\users\\vloba\\git\\transformers\\.venv\\lib\\site-packages (from torch>=1.0->bertviz) (3.1.2)\n",
      "Requirement already satisfied: fsspec in c:\\users\\vloba\\git\\transformers\\.venv\\lib\\site-packages (from torch>=1.0->bertviz) (2023.6.0)\n",
      "Requirement already satisfied: huggingface-hub<1.0,>=0.16.4 in c:\\users\\vloba\\git\\transformers\\.venv\\lib\\site-packages (from transformers>=2.0->bertviz) (0.17.3)\n",
      "Requirement already satisfied: numpy>=1.17 in c:\\users\\vloba\\git\\transformers\\.venv\\lib\\site-packages (from transformers>=2.0->bertviz) (1.25.2)\n",
      "Requirement already satisfied: packaging>=20.0 in c:\\users\\vloba\\git\\transformers\\.venv\\lib\\site-packages (from transformers>=2.0->bertviz) (23.2)\n",
      "Requirement already satisfied: pyyaml>=5.1 in c:\\users\\vloba\\git\\transformers\\.venv\\lib\\site-packages (from transformers>=2.0->bertviz) (6.0.1)\n",
      "Requirement already satisfied: tokenizers<0.15,>=0.14 in c:\\users\\vloba\\git\\transformers\\.venv\\lib\\site-packages (from transformers>=2.0->bertviz) (0.14.1)\n",
      "Requirement already satisfied: safetensors>=0.3.1 in c:\\users\\vloba\\git\\transformers\\.venv\\lib\\site-packages (from transformers>=2.0->bertviz) (0.4.0)\n",
      "Requirement already satisfied: colorama in c:\\users\\vloba\\git\\transformers\\.venv\\lib\\site-packages (from tqdm->bertviz) (0.4.6)\n",
      "Collecting botocore<1.32.0,>=1.31.62 (from boto3->bertviz)\n",
      "  Obtaining dependency information for botocore<1.32.0,>=1.31.62 from https://files.pythonhosted.org/packages/a8/3f/74138007b045447eac6141c8144efe8e1c9f377cf56c85edfe1111a22f97/botocore-1.31.62-py3-none-any.whl.metadata\n",
      "  Downloading botocore-1.31.62-py3-none-any.whl.metadata (6.1 kB)\n",
      "Collecting jmespath<2.0.0,>=0.7.1 (from boto3->bertviz)\n",
      "  Downloading jmespath-1.0.1-py3-none-any.whl (20 kB)\n",
      "Collecting s3transfer<0.8.0,>=0.7.0 (from boto3->bertviz)\n",
      "  Obtaining dependency information for s3transfer<0.8.0,>=0.7.0 from https://files.pythonhosted.org/packages/5a/4b/fec9ce18f8874a96c5061422625ba86c3ee1e6587ccd92ff9f5bf7bd91b2/s3transfer-0.7.0-py3-none-any.whl.metadata\n",
      "  Downloading s3transfer-0.7.0-py3-none-any.whl.metadata (1.8 kB)\n",
      "Requirement already satisfied: charset-normalizer<4,>=2 in c:\\users\\vloba\\git\\transformers\\.venv\\lib\\site-packages (from requests->bertviz) (3.3.0)\n",
      "Requirement already satisfied: idna<4,>=2.5 in c:\\users\\vloba\\git\\transformers\\.venv\\lib\\site-packages (from requests->bertviz) (3.4)\n",
      "Requirement already satisfied: urllib3<3,>=1.21.1 in c:\\users\\vloba\\git\\transformers\\.venv\\lib\\site-packages (from requests->bertviz) (2.0.6)\n",
      "Requirement already satisfied: certifi>=2017.4.17 in c:\\users\\vloba\\git\\transformers\\.venv\\lib\\site-packages (from requests->bertviz) (2023.7.22)\n",
      "Requirement already satisfied: python-dateutil<3.0.0,>=2.1 in c:\\users\\vloba\\git\\transformers\\.venv\\lib\\site-packages (from botocore<1.32.0,>=1.31.62->boto3->bertviz) (2.8.2)\n",
      "Collecting urllib3<3,>=1.21.1 (from requests->bertviz)\n",
      "  Obtaining dependency information for urllib3<3,>=1.21.1 from https://files.pythonhosted.org/packages/48/fe/a5c6cc46e9fe9171d7ecf0f33ee7aae14642f8d74baa7af4d7840f9358be/urllib3-1.26.17-py2.py3-none-any.whl.metadata\n",
      "  Downloading urllib3-1.26.17-py2.py3-none-any.whl.metadata (48 kB)\n",
      "     ---------------------------------------- 0.0/48.7 kB ? eta -:--:--\n",
      "     ---------------------------------------- 48.7/48.7 kB ? eta 0:00:00\n",
      "Requirement already satisfied: MarkupSafe>=2.0 in c:\\users\\vloba\\git\\transformers\\.venv\\lib\\site-packages (from jinja2->torch>=1.0->bertviz) (2.1.3)\n",
      "Requirement already satisfied: mpmath>=0.19 in c:\\users\\vloba\\git\\transformers\\.venv\\lib\\site-packages (from sympy->torch>=1.0->bertviz) (1.3.0)\n",
      "Requirement already satisfied: six>=1.5 in c:\\users\\vloba\\git\\transformers\\.venv\\lib\\site-packages (from python-dateutil<3.0.0,>=2.1->botocore<1.32.0,>=1.31.62->boto3->bertviz) (1.16.0)\n",
      "Downloading boto3-1.28.62-py3-none-any.whl (135 kB)\n",
      "   ---------------------------------------- 0.0/135.8 kB ? eta -:--:--\n",
      "   ---------------------------------------- 135.8/135.8 kB ? eta 0:00:00\n",
      "Downloading botocore-1.31.62-py3-none-any.whl (11.2 MB)\n",
      "   ---------------------------------------- 0.0/11.2 MB ? eta -:--:--\n",
      "   ------- -------------------------------- 2.1/11.2 MB 43.6 MB/s eta 0:00:01\n",
      "   --------------- ------------------------ 4.4/11.2 MB 46.5 MB/s eta 0:00:01\n",
      "   ----------------------- ---------------- 6.6/11.2 MB 47.2 MB/s eta 0:00:01\n",
      "   -------------------------------- ------- 9.0/11.2 MB 48.1 MB/s eta 0:00:01\n",
      "   ---------------------------------------  11.2/11.2 MB 50.4 MB/s eta 0:00:01\n",
      "   ---------------------------------------- 11.2/11.2 MB 43.7 MB/s eta 0:00:00\n",
      "Downloading s3transfer-0.7.0-py3-none-any.whl (79 kB)\n",
      "   ---------------------------------------- 0.0/79.8 kB ? eta -:--:--\n",
      "   ---------------------------------------- 79.8/79.8 kB 4.3 MB/s eta 0:00:00\n",
      "Downloading urllib3-1.26.17-py2.py3-none-any.whl (143 kB)\n",
      "   ---------------------------------------- 0.0/143.4 kB ? eta -:--:--\n",
      "   ---------------------------------------- 143.4/143.4 kB ? eta 0:00:00\n",
      "Installing collected packages: sentencepiece, urllib3, jmespath, botocore, s3transfer, boto3, bertviz\n",
      "  Attempting uninstall: urllib3\n",
      "    Found existing installation: urllib3 2.0.6\n",
      "    Uninstalling urllib3-2.0.6:\n",
      "      Successfully uninstalled urllib3-2.0.6\n",
      "Successfully installed bertviz-1.4.0 boto3-1.28.62 botocore-1.31.62 jmespath-1.0.1 s3transfer-0.7.0 sentencepiece-0.1.99 urllib3-1.26.17\n"
     ]
    }
   ],
   "source": [
    "!pip3 install bertviz"
   ]
  },
  {
   "cell_type": "markdown",
   "metadata": {},
   "source": [
    "## Code"
   ]
  },
  {
   "cell_type": "code",
   "execution_count": 9,
   "metadata": {},
   "outputs": [],
   "source": [
    "text=\"Times flies like an arrow\"\n",
    "model_ckpt=\"bert-base-uncased\""
   ]
  },
  {
   "cell_type": "code",
   "execution_count": null,
   "metadata": {},
   "outputs": [],
   "source": [
    "from transformers import AutoConfig\n",
    "\n",
    "config=AutoConfig.from_pretrained(model_ckpt)"
   ]
  },
  {
   "cell_type": "code",
   "execution_count": 7,
   "metadata": {},
   "outputs": [
    {
     "name": "stderr",
     "output_type": "stream",
     "text": [
      "Downloading (…)okenizer_config.json: 100%|██████████| 28.0/28.0 [00:00<00:00, 7.00kB/s]\n",
      "Downloading (…)solve/main/vocab.txt: 100%|██████████| 232k/232k [00:00<00:00, 1.12MB/s]\n",
      "Downloading (…)/main/tokenizer.json: 100%|██████████| 466k/466k [00:00<00:00, 1.51MB/s]\n"
     ]
    }
   ],
   "source": [
    "from transformers import AutoTokenizer\n",
    "\n",
    "tokenizer=AutoTokenizer.from_pretrained(model_ckpt)"
   ]
  },
  {
   "cell_type": "code",
   "execution_count": 14,
   "metadata": {},
   "outputs": [],
   "source": [
    "import math\n",
    "import torch\n",
    "import torch.nn.functional as F\n",
    "\n",
    "def scaled_dot_product_attention(query, key, value):\n",
    "    dim_k=key.size(-1)\n",
    "    scores=torch.bmm(query, key.transpose(-2, -1))/math.sqrt(dim_k)\n",
    "    weights=F.softmax(scores, dim=-1)\n",
    "    return torch.bmm(weights, value)"
   ]
  },
  {
   "cell_type": "code",
   "execution_count": 35,
   "metadata": {},
   "outputs": [],
   "source": [
    "from torch import nn\n",
    "\n",
    "class AttentionHead(nn.Module):\n",
    "    def __init__(self, dim_emb, dim_k, dim_v):\n",
    "        super().__init__()\n",
    "        self.q_linear=nn.Linear(dim_emb, dim_k)\n",
    "        self.k_linear=nn.Linear(dim_emb, dim_k)\n",
    "        self.v_linear=nn.Linear(dim_emb, dim_v)\n",
    "        \n",
    "    def forward(self, x):\n",
    "        queries=self.q_linear(x)\n",
    "        keys=self.k_linear(x)\n",
    "        values=self.v_linear(x)\n",
    "        att_out=scaled_dot_product_attention(queries, keys, values)\n",
    "        return att_out"
   ]
  },
  {
   "cell_type": "code",
   "execution_count": 36,
   "metadata": {},
   "outputs": [],
   "source": [
    "class MultiHeadAttention(nn.Module):\n",
    "    def __init__(self, num_heads, dim_emb, dim_k, dim_v):\n",
    "        super().__init__()\n",
    "        self.dim_emb=dim_emb\n",
    "        self.num_heads=num_heads\n",
    "        self.dim_k=dim_k\n",
    "        self.dim_v=dim_v\n",
    "        self.heads=nn.ModuleList()\n",
    "        for _ in range(num_heads):\n",
    "            self.heads.append(AttentionHead(dim_emb, dim_k, dim_v))\n",
    "        self.linear=nn.Linear(num_heads*dim_v, dim_emb)\n",
    "        \n",
    "    def forward(self, x):\n",
    "        att_outs=[head(x) for head in self.heads]\n",
    "        att_out=torch.cat(att_outs, dim=-1)\n",
    "        multi_att_out=self.linear(att_out)\n",
    "        return multi_att_out"
   ]
  },
  {
   "cell_type": "code",
   "execution_count": 34,
   "metadata": {},
   "outputs": [
    {
     "data": {
      "text/plain": [
       "torch.Size([1, 5, 768])"
      ]
     },
     "execution_count": 34,
     "metadata": {},
     "output_type": "execute_result"
    }
   ],
   "source": [
    "from torch import nn\n",
    "\n",
    "inputs=tokenizer(text, return_tensors=\"pt\", add_special_tokens=False)\n",
    "token_emb=nn.Embedding(config.vocab_size, config.hidden_size)\n",
    "token_embs=token_emb(inputs[\"input_ids\"])\n",
    "token_embs.shape"
   ]
  },
  {
   "cell_type": "code",
   "execution_count": 37,
   "metadata": {},
   "outputs": [
    {
     "data": {
      "text/plain": [
       "torch.Size([1, 5, 768])"
      ]
     },
     "execution_count": 37,
     "metadata": {},
     "output_type": "execute_result"
    }
   ],
   "source": [
    "multiHeadAttention=MultiHeadAttention(4, 768, 11, 3)\n",
    "multiHeadAttention.forward(token_embs).shape"
   ]
  },
  {
   "cell_type": "code",
   "execution_count": null,
   "metadata": {},
   "outputs": [],
   "source": []
  }
 ],
 "metadata": {
  "kernelspec": {
   "display_name": ".venv",
   "language": "python",
   "name": "python3"
  },
  "language_info": {
   "codemirror_mode": {
    "name": "ipython",
    "version": 3
   },
   "file_extension": ".py",
   "mimetype": "text/x-python",
   "name": "python",
   "nbconvert_exporter": "python",
   "pygments_lexer": "ipython3",
   "version": "3.9.13"
  }
 },
 "nbformat": 4,
 "nbformat_minor": 2
}
